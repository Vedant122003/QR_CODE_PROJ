{
 "cells": [
  {
   "cell_type": "code",
   "execution_count": 12,
   "metadata": {},
   "outputs": [
    {
     "name": "stdout",
     "output_type": "stream",
     "text": [
      "Generating QR code...\n",
      "QR code successfully saved as githubID.png\n"
     ]
    }
   ],
   "source": [
    "import pyqrcode\n",
    "\n",
    "# Data to be encoded in the QR code\n",
    "url = \"https://github.com/Vedant122003\"\n",
    "\n",
    "print(\"Generating QR code...\")\n",
    "qr = pyqrcode.create(url)\n",
    "\n",
    "# Saving the QR code as a PNG file\n",
    "filename = \"githubID.png\"   \n",
    "qr.png(filename, scale=5)\n",
    "print(f\"QR code successfully saved as {filename}\")\n"
   ]
  },
  {
   "cell_type": "code",
   "execution_count": 9,
   "metadata": {},
   "outputs": [],
   "source": []
  },
  {
   "cell_type": "code",
   "execution_count": 10,
   "metadata": {},
   "outputs": [],
   "source": []
  }
 ],
 "metadata": {
  "kernelspec": {
   "display_name": "Python 3",
   "language": "python",
   "name": "python3"
  },
  "language_info": {
   "codemirror_mode": {
    "name": "ipython",
    "version": 3
   },
   "file_extension": ".py",
   "mimetype": "text/x-python",
   "name": "python",
   "nbconvert_exporter": "python",
   "pygments_lexer": "ipython3",
   "version": "3.10.7"
  }
 },
 "nbformat": 4,
 "nbformat_minor": 2
}
